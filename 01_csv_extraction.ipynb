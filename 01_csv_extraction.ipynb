{
 "cells": [
  {
   "cell_type": "code",
   "execution_count": 1,
   "metadata": {},
   "outputs": [
    {
     "name": "stdout",
     "output_type": "stream",
     "text": [
      "Fetching ['skinny jeans', 'loose jeans', 'straight jeans', 'slim jeans', 'distressed jeans'] for today 5-y\n"
     ]
    },
    {
     "name": "stderr",
     "output_type": "stream",
     "text": [
      "c:\\Users\\justi\\fashion-trends-project\\venv\\Lib\\site-packages\\pytrends\\request.py:260: FutureWarning: Downcasting object dtype arrays on .fillna, .ffill, .bfill is deprecated and will change in a future version. Call result.infer_objects(copy=False) instead. To opt-in to the future behavior, set `pd.set_option('future.no_silent_downcasting', True)`\n",
      "  df = df.fillna(False)\n"
     ]
    },
    {
     "name": "stdout",
     "output_type": "stream",
     "text": [
      "Fetching ['leather jacket', 'denim jacket', 'bomber jacket', 'pea coat', 'parka'] for today 5-y\n"
     ]
    },
    {
     "name": "stderr",
     "output_type": "stream",
     "text": [
      "c:\\Users\\justi\\fashion-trends-project\\venv\\Lib\\site-packages\\pytrends\\request.py:260: FutureWarning: Downcasting object dtype arrays on .fillna, .ffill, .bfill is deprecated and will change in a future version. Call result.infer_objects(copy=False) instead. To opt-in to the future behavior, set `pd.set_option('future.no_silent_downcasting', True)`\n",
      "  df = df.fillna(False)\n"
     ]
    },
    {
     "name": "stdout",
     "output_type": "stream",
     "text": [
      "Fetching ['running shoes', 'basketball sneakers', 'retro sneakers', 'chunky sneakers', 'canvas sneakers'] for today 5-y\n"
     ]
    },
    {
     "name": "stderr",
     "output_type": "stream",
     "text": [
      "c:\\Users\\justi\\fashion-trends-project\\venv\\Lib\\site-packages\\pytrends\\request.py:260: FutureWarning: Downcasting object dtype arrays on .fillna, .ffill, .bfill is deprecated and will change in a future version. Call result.infer_objects(copy=False) instead. To opt-in to the future behavior, set `pd.set_option('future.no_silent_downcasting', True)`\n",
      "  df = df.fillna(False)\n"
     ]
    },
    {
     "name": "stdout",
     "output_type": "stream",
     "text": [
      "Fetching ['combat boots', 'chelsea boots', 'hiking boots', 'chukkas', 'Timberlands'] for today 5-y\n"
     ]
    },
    {
     "name": "stderr",
     "output_type": "stream",
     "text": [
      "c:\\Users\\justi\\fashion-trends-project\\venv\\Lib\\site-packages\\pytrends\\request.py:260: FutureWarning: Downcasting object dtype arrays on .fillna, .ffill, .bfill is deprecated and will change in a future version. Call result.infer_objects(copy=False) instead. To opt-in to the future behavior, set `pd.set_option('future.no_silent_downcasting', True)`\n",
      "  df = df.fillna(False)\n"
     ]
    },
    {
     "name": "stdout",
     "output_type": "stream",
     "text": [
      "Fetching ['Zara', 'H&M', 'Uniqlo', 'Abercrombie & Fitch', 'Shein'] for today 5-y\n"
     ]
    },
    {
     "name": "stderr",
     "output_type": "stream",
     "text": [
      "c:\\Users\\justi\\fashion-trends-project\\venv\\Lib\\site-packages\\pytrends\\request.py:260: FutureWarning: Downcasting object dtype arrays on .fillna, .ffill, .bfill is deprecated and will change in a future version. Call result.infer_objects(copy=False) instead. To opt-in to the future behavior, set `pd.set_option('future.no_silent_downcasting', True)`\n",
      "  df = df.fillna(False)\n"
     ]
    },
    {
     "name": "stdout",
     "output_type": "stream",
     "text": [
      "Fetching ['Nike', 'New Balance', 'Adidas', 'Reebok', 'Vans'] for today 5-y\n"
     ]
    },
    {
     "name": "stderr",
     "output_type": "stream",
     "text": [
      "c:\\Users\\justi\\fashion-trends-project\\venv\\Lib\\site-packages\\pytrends\\request.py:260: FutureWarning: Downcasting object dtype arrays on .fillna, .ffill, .bfill is deprecated and will change in a future version. Call result.infer_objects(copy=False) instead. To opt-in to the future behavior, set `pd.set_option('future.no_silent_downcasting', True)`\n",
      "  df = df.fillna(False)\n"
     ]
    },
    {
     "name": "stdout",
     "output_type": "stream",
     "text": [
      "Data collection complete! Saved to fashion_trends_5years.csv.\n"
     ]
    }
   ],
   "source": [
    "from pytrends.request import TrendReq\n",
    "import pandas as pd\n",
    "import time\n",
    "from datetime import datetime, timedelta\n",
    "\n",
    "# Initialize Pytrends\n",
    "pytrends = TrendReq(hl='en-US', tz=360)\n",
    "\n",
    "# Define categories and keywords (Grouped into batches of 5)\n",
    "categories = {\n",
    "    \"Jeans\": [\"skinny jeans\", \"loose jeans\", \"straight jeans\", \"slim jeans\", \"distressed jeans\"],\n",
    "    \"Outerwear\": [\"leather jacket\", \"denim jacket\", \"bomber jacket\", \"pea coat\", \"parka\"],\n",
    "    \"Sneakers\": [\"running shoes\", \"basketball sneakers\", \"retro sneakers\", \"chunky sneakers\", \"canvas sneakers\"],\n",
    "    \"Boots\": [\"Doc Martens\", \"chelsea boots\", \"hiking boots\", \"chukkas\", \"Timberlands\"],\n",
    "    \"Clothing_Brand\": [\"Zara\", \"H&M\", \"Uniqlo\", \"Abercrombie & Fitch\", \"Shein\"],\n",
    "    \"Shoe_Brand\": [\"Nike\", \"New Balance\", \"Adidas\", \"Reebok\", \"Vans\"]\n",
    "}\n",
    "\n",
    "# Define 5-year timeframe\n",
    "timeframe = \"today 5-y\"  # Directly requests 5 years of data\n",
    "\n",
    "# Data storage\n",
    "combined_data = pd.DataFrame()\n",
    "\n",
    "def fetch_data(pytrends, keywords, category):\n",
    "    \"\"\"\n",
    "    Fetches Google Trends data for a batch of up to 5 keywords at a time.\n",
    "    Handles rate limiting with retries and cooldowns.\n",
    "    \"\"\"\n",
    "    global combined_data\n",
    "\n",
    "    print(f\"Fetching {keywords} for {timeframe}\")\n",
    "\n",
    "    try:\n",
    "        pytrends.build_payload(keywords, timeframe=timeframe, geo='US')\n",
    "        data = pytrends.interest_over_time()\n",
    "\n",
    "        # Ensure data is not empty\n",
    "        if data.empty:\n",
    "            print(f\"No data available for {keywords}. Skipping...\")\n",
    "            return\n",
    "\n",
    "        # Drop 'isPartial' column if it exists\n",
    "        if 'isPartial' in data.columns:\n",
    "            data = data.drop(columns=['isPartial'])\n",
    "\n",
    "        data = data.reset_index()\n",
    "\n",
    "        # Normalize each keyword individually and reshape data\n",
    "        for keyword in keywords:\n",
    "            if keyword in data.columns:\n",
    "                temp_df = data[[\"date\", keyword]].rename(columns={keyword: \"Search Interest\"})\n",
    "                temp_df[\"Keyword\"] = keyword\n",
    "                temp_df[\"Category\"] = category\n",
    "\n",
    "                # Normalize the search interest values\n",
    "                temp_df[\"Search Interest\"] = temp_df[\"Search Interest\"] / temp_df[\"Search Interest\"].max() * 100\n",
    "\n",
    "                combined_data = pd.concat([combined_data, temp_df], ignore_index=True)\n",
    "        \n",
    "        time.sleep(30)  # Increased sleep time to avoid rate limits\n",
    "\n",
    "    except Exception as e:\n",
    "        print(f\"Error fetching {keywords}: {e}\")\n",
    "        print(\"Waiting 60 seconds before retrying...\")\n",
    "        time.sleep(60)  # Extra delay before retrying\n",
    "        fetch_data(pytrends, keywords, category)  # Retry once\n",
    "\n",
    "# Fetch data for all categories in batches of 5\n",
    "for category, keywords in categories.items():\n",
    "    for i in range(0, len(keywords), 5):  # Query up to 5 at a time\n",
    "        fetch_data(pytrends, keywords[i:i+5], category)\n",
    "\n",
    "# Save to CSV\n",
    "combined_data.to_csv(\"fashion_trends_5years.csv\", index=False)\n",
    "print(\"Data collection complete! Saved to fashion_trends_5years.csv.\")"
   ]
  },
  {
   "cell_type": "code",
   "execution_count": 4,
   "metadata": {},
   "outputs": [
    {
     "name": "stderr",
     "output_type": "stream",
     "text": [
      "c:\\Users\\justi\\fashion-trends-project\\venv\\Lib\\site-packages\\tqdm\\auto.py:21: TqdmWarning: IProgress not found. Please update jupyter and ipywidgets. See https://ipywidgets.readthedocs.io/en/stable/user_install.html\n",
      "  from .autonotebook import tqdm as notebook_tqdm\n"
     ]
    },
    {
     "data": {
      "text/html": [
       "<div>\n",
       "<style scoped>\n",
       "    .dataframe tbody tr th:only-of-type {\n",
       "        vertical-align: middle;\n",
       "    }\n",
       "\n",
       "    .dataframe tbody tr th {\n",
       "        vertical-align: top;\n",
       "    }\n",
       "\n",
       "    .dataframe thead th {\n",
       "        text-align: right;\n",
       "    }\n",
       "</style>\n",
       "<table border=\"1\" class=\"dataframe\">\n",
       "  <thead>\n",
       "    <tr style=\"text-align: right;\">\n",
       "      <th></th>\n",
       "      <th>date</th>\n",
       "      <th>Search Interest</th>\n",
       "      <th>Keyword</th>\n",
       "      <th>Category</th>\n",
       "      <th>Subcategory</th>\n",
       "    </tr>\n",
       "  </thead>\n",
       "  <tbody>\n",
       "    <tr>\n",
       "      <th>0</th>\n",
       "      <td>2022-01-30</td>\n",
       "      <td>88.0</td>\n",
       "      <td>skinny jeans</td>\n",
       "      <td>Jeans</td>\n",
       "      <td>Jeans</td>\n",
       "    </tr>\n",
       "    <tr>\n",
       "      <th>1</th>\n",
       "      <td>2022-02-06</td>\n",
       "      <td>92.0</td>\n",
       "      <td>skinny jeans</td>\n",
       "      <td>Jeans</td>\n",
       "      <td>Jeans</td>\n",
       "    </tr>\n",
       "    <tr>\n",
       "      <th>2</th>\n",
       "      <td>2022-02-13</td>\n",
       "      <td>84.0</td>\n",
       "      <td>skinny jeans</td>\n",
       "      <td>Jeans</td>\n",
       "      <td>Jeans</td>\n",
       "    </tr>\n",
       "    <tr>\n",
       "      <th>3</th>\n",
       "      <td>2022-02-20</td>\n",
       "      <td>100.0</td>\n",
       "      <td>skinny jeans</td>\n",
       "      <td>Jeans</td>\n",
       "      <td>Jeans</td>\n",
       "    </tr>\n",
       "    <tr>\n",
       "      <th>4</th>\n",
       "      <td>2022-02-27</td>\n",
       "      <td>93.0</td>\n",
       "      <td>skinny jeans</td>\n",
       "      <td>Jeans</td>\n",
       "      <td>Jeans</td>\n",
       "    </tr>\n",
       "    <tr>\n",
       "      <th>...</th>\n",
       "      <td>...</td>\n",
       "      <td>...</td>\n",
       "      <td>...</td>\n",
       "      <td>...</td>\n",
       "      <td>...</td>\n",
       "    </tr>\n",
       "    <tr>\n",
       "      <th>95</th>\n",
       "      <td>2023-11-19</td>\n",
       "      <td>99.0</td>\n",
       "      <td>skinny jeans</td>\n",
       "      <td>Jeans</td>\n",
       "      <td>Jeans</td>\n",
       "    </tr>\n",
       "    <tr>\n",
       "      <th>96</th>\n",
       "      <td>2023-11-26</td>\n",
       "      <td>92.0</td>\n",
       "      <td>skinny jeans</td>\n",
       "      <td>Jeans</td>\n",
       "      <td>Jeans</td>\n",
       "    </tr>\n",
       "    <tr>\n",
       "      <th>97</th>\n",
       "      <td>2023-12-03</td>\n",
       "      <td>95.0</td>\n",
       "      <td>skinny jeans</td>\n",
       "      <td>Jeans</td>\n",
       "      <td>Jeans</td>\n",
       "    </tr>\n",
       "    <tr>\n",
       "      <th>98</th>\n",
       "      <td>2023-12-10</td>\n",
       "      <td>92.0</td>\n",
       "      <td>skinny jeans</td>\n",
       "      <td>Jeans</td>\n",
       "      <td>Jeans</td>\n",
       "    </tr>\n",
       "    <tr>\n",
       "      <th>99</th>\n",
       "      <td>2023-12-17</td>\n",
       "      <td>90.0</td>\n",
       "      <td>skinny jeans</td>\n",
       "      <td>Jeans</td>\n",
       "      <td>Jeans</td>\n",
       "    </tr>\n",
       "  </tbody>\n",
       "</table>\n",
       "<p>100 rows × 5 columns</p>\n",
       "</div>"
      ],
      "text/plain": [
       "          date  Search Interest       Keyword Category Subcategory\n",
       "0   2022-01-30             88.0  skinny jeans    Jeans       Jeans\n",
       "1   2022-02-06             92.0  skinny jeans    Jeans       Jeans\n",
       "2   2022-02-13             84.0  skinny jeans    Jeans       Jeans\n",
       "3   2022-02-20            100.0  skinny jeans    Jeans       Jeans\n",
       "4   2022-02-27             93.0  skinny jeans    Jeans       Jeans\n",
       "..         ...              ...           ...      ...         ...\n",
       "95  2023-11-19             99.0  skinny jeans    Jeans       Jeans\n",
       "96  2023-11-26             92.0  skinny jeans    Jeans       Jeans\n",
       "97  2023-12-03             95.0  skinny jeans    Jeans       Jeans\n",
       "98  2023-12-10             92.0  skinny jeans    Jeans       Jeans\n",
       "99  2023-12-17             90.0  skinny jeans    Jeans       Jeans\n",
       "\n",
       "[100 rows x 5 columns]"
      ]
     },
     "execution_count": 4,
     "metadata": {},
     "output_type": "execute_result"
    }
   ],
   "source": [
    "\n"
   ]
  }
 ],
 "metadata": {
  "kernelspec": {
   "display_name": "venv",
   "language": "python",
   "name": "python3"
  },
  "language_info": {
   "codemirror_mode": {
    "name": "ipython",
    "version": 3
   },
   "file_extension": ".py",
   "mimetype": "text/x-python",
   "name": "python",
   "nbconvert_exporter": "python",
   "pygments_lexer": "ipython3",
   "version": "3.12.3"
  }
 },
 "nbformat": 4,
 "nbformat_minor": 2
}
